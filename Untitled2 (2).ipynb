{
  "nbformat": 4,
  "nbformat_minor": 0,
  "metadata": {
    "colab": {
      "provenance": []
    },
    "kernelspec": {
      "name": "python3",
      "display_name": "Python 3"
    },
    "language_info": {
      "name": "python"
    }
  },
  "cells": [
    {
      "cell_type": "code",
      "execution_count": 1,
      "metadata": {
        "colab": {
          "base_uri": "https://localhost:8080/"
        },
        "id": "AO3Fa5Of96Xl",
        "outputId": "8a7ad49b-fd0f-45b0-b21a-d1ce62fdb94d"
      },
      "outputs": [
        {
          "output_type": "stream",
          "name": "stdout",
          "text": [
            "add 15\n",
            "sub 3.3\n",
            "mult 50\n",
            "div 2.0\n"
          ]
        }
      ],
      "source": [
        "a= 10\n",
        "b= 5\n",
        "x=5.5\n",
        "y=2.2\n",
        "z=1j\n",
        "print(\"add\" ,a+b)\n",
        "print(\"sub\",x-y)\n",
        "print(\"mult\",a*b)\n",
        "print(\"div\" ,a/b)"
      ]
    },
    {
      "cell_type": "code",
      "source": [
        "a= int(input(\"enter value of a : \"))\n",
        "b= int(input(\"enter value of b : \"))\n",
        "\n",
        "add = a+b\n",
        "sub = a-b\n",
        "\n",
        "if add ==15:\n",
        "    print(\"the addition successful\")\n",
        "\n",
        "if sub != 0:\n",
        "  print(\"substraction is successful\")\n",
        "\n",
        "if a>b:\n",
        "  print(\"a is greater than b\")\n",
        "else:\n",
        "  print(\"a is smaller than b\")\n",
        "\n",
        "print(a<10 or b<10)\n",
        "print(a>10 and b>10)"
      ],
      "metadata": {
        "colab": {
          "base_uri": "https://localhost:8080/"
        },
        "id": "qkgNypiM-tYb",
        "outputId": "53a10edd-dfac-4131-e37e-0862953977a9"
      },
      "execution_count": 10,
      "outputs": [
        {
          "output_type": "stream",
          "name": "stdout",
          "text": [
            "enter value of a : 10\n",
            "enter value of b : 6\n",
            "substraction is successful\n",
            "a is greater than b\n",
            "True\n",
            "False\n"
          ]
        }
      ]
    },
    {
      "cell_type": "code",
      "source": [
        "my_list= [1, 2, 3, 4, 5, 6]\n",
        "\n",
        "print(my_list[2:5])\n",
        "my_list.append(7)\n",
        "print(my_list)\n",
        "my_list.insert(3,9)\n",
        "print(my_list)\n",
        "my_list.remove(2)\n",
        "print(my_list)\n",
        "print(my_list.pop(5))\n",
        "my_list.reverse()\n",
        "print(my_list)\n",
        "list1 = [11, 12, 13]\n",
        "my_list.extend(list1)\n",
        "print(my_list)"
      ],
      "metadata": {
        "colab": {
          "base_uri": "https://localhost:8080/"
        },
        "id": "DQ_T_gEFEjoC",
        "outputId": "1ded46b7-1829-4dfa-8c33-e7c835ea448d"
      },
      "execution_count": 21,
      "outputs": [
        {
          "output_type": "stream",
          "name": "stdout",
          "text": [
            "[3, 4, 5]\n",
            "[1, 2, 3, 4, 5, 6, 7]\n",
            "[1, 2, 3, 9, 4, 5, 6, 7]\n",
            "[1, 3, 9, 4, 5, 6, 7]\n",
            "6\n",
            "[7, 5, 4, 9, 3, 1]\n",
            "[7, 5, 4, 9, 3, 1, 11, 12, 13]\n"
          ]
        }
      ]
    },
    {
      "cell_type": "code",
      "source": [
        "tuple1= [1.54, 2, 3, 'hi', 4]\n",
        "print(tuple1[2:5])\n",
        "print(tuple1[:3])\n",
        "print(tuple1[::-1])\n",
        "tuple2= [6, 7, 8]\n",
        "concat= tuple1 + tuple2\n",
        "print(concat)\n",
        "tuple0= tuple1 * 2\n",
        "print(tuple0)\n",
        "count = len(tuple1)\n",
        "print(count)\n",
        "a = tuple1.index(3)\n",
        "print(a)\n"
      ],
      "metadata": {
        "colab": {
          "base_uri": "https://localhost:8080/"
        },
        "id": "gCgnzA3sHsh-",
        "outputId": "36361cad-e087-413b-d349-1e9a933c1869"
      },
      "execution_count": 26,
      "outputs": [
        {
          "output_type": "stream",
          "name": "stdout",
          "text": [
            "[3, 'hi', 4]\n",
            "[1.54, 2, 3]\n",
            "[4, 'hi', 3, 2, 1.54]\n",
            "[1.54, 2, 3, 'hi', 4, 6, 7, 8]\n",
            "[1.54, 2, 3, 'hi', 4, 1.54, 2, 3, 'hi', 4]\n",
            "5\n",
            "2\n"
          ]
        }
      ]
    },
    {
      "cell_type": "code",
      "source": [
        "set1= {1,2,3,4,5}\n",
        "set2= {1, 12, 13, 14}\n",
        "\n",
        "set1.add(7)\n",
        "print(set1)\n",
        "set1.remove(3)\n",
        "print(set1)\n",
        "a= set1.union(set2)\n",
        "print(a)\n",
        "b= set1.intersection(set2)\n",
        "print(b)\n",
        "c= set1.difference(set2)\n",
        "print(c)\n"
      ],
      "metadata": {
        "colab": {
          "base_uri": "https://localhost:8080/"
        },
        "id": "ScUOp4VOOaJa",
        "outputId": "3ebbb9af-c1cd-4a88-b213-b279ee916e95"
      },
      "execution_count": 31,
      "outputs": [
        {
          "output_type": "stream",
          "name": "stdout",
          "text": [
            "{1, 2, 3, 4, 5, 7}\n",
            "{1, 2, 4, 5, 7}\n",
            "{1, 2, 4, 5, 7, 12, 13, 14}\n",
            "{1}\n",
            "{2, 4, 5, 7}\n"
          ]
        }
      ]
    },
    {
      "cell_type": "code",
      "source": [
        "dic = {\"name\" : \"sakshi\", \"age\" : 19, \"city\" : \"kolhapur\" }\n",
        "a = dic.get(\"name\")\n",
        "print(a)\n",
        "\n",
        "b = dic.get(\"city\")\n",
        "print(b)\n",
        "\n",
        "c= list(dic.keys())\n",
        "print(c)\n",
        "\n",
        "d= list(dic.values())\n",
        "print(d)\n",
        "\n",
        "items = list(dic.items())\n",
        "print(items)\n",
        "\n",
        "up= dic.update({\"city\" : \"pune\"})\n",
        "print(up)\n",
        "\n",
        "pop= dic.pop(\"age\")\n",
        "print(pop)"
      ],
      "metadata": {
        "colab": {
          "base_uri": "https://localhost:8080/"
        },
        "id": "TE4fKu5BRHwp",
        "outputId": "69a9a22d-881e-4817-8340-2b0cdf0898aa"
      },
      "execution_count": 36,
      "outputs": [
        {
          "output_type": "stream",
          "name": "stdout",
          "text": [
            "sakshi\n",
            "kolhapur\n",
            "['name', 'age', 'city']\n",
            "['sakshi', 19, 'kolhapur']\n",
            "[('name', 'sakshi'), ('age', 19), ('city', 'kolhapur')]\n",
            "None\n",
            "19\n"
          ]
        }
      ]
    }
  ]
}