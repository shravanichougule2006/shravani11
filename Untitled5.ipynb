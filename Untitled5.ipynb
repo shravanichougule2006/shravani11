{
  "nbformat": 4,
  "nbformat_minor": 0,
  "metadata": {
    "colab": {
      "provenance": []
    },
    "kernelspec": {
      "name": "python3",
      "display_name": "Python 3"
    },
    "language_info": {
      "name": "python"
    }
  },
  "cells": [
    {
      "cell_type": "markdown",
      "source": [],
      "metadata": {
        "id": "N-s_31oZ7FwM"
      }
    },
    {
      "cell_type": "markdown",
      "source": [],
      "metadata": {
        "id": "WpevAPk47GJL"
      }
    },
    {
      "cell_type": "code",
      "execution_count": 1,
      "metadata": {
        "colab": {
          "base_uri": "https://localhost:8080/"
        },
        "id": "fl0yT8a96aWp",
        "outputId": "a2b7c733-54bf-4f75-d425-0658f0435115"
      },
      "outputs": [
        {
          "output_type": "stream",
          "name": "stdout",
          "text": [
            "enter students mark : \n",
            "70\n",
            "the students marks :  70.0\n",
            "grade : B\n",
            "thank you\n"
          ]
        }
      ],
      "source": [
        "mark = float(input(\"enter students mark : \\n\"))\n",
        "print(\"the students marks : \", mark)\n",
        "\n",
        "if mark > 75:\n",
        "  print(\"grade : A\")\n",
        "\n",
        "elif 60 < mark < 75:\n",
        "  print(\"grade : B\")\n",
        "\n",
        "elif 50< mark <60:\n",
        "  print(\"grade : C\")\n",
        "\n",
        "elif 35< mark <50:\n",
        "  print(\"grade : D\")\n",
        "\n",
        "else:\n",
        "  print(\"fail\")\n",
        "\n",
        "print(\"thank you\")\n"
      ]
    },
    {
      "cell_type": "code",
      "source": [
        "n = 7\n",
        "\n",
        "a = n / 2\n",
        "b= n / 3\n",
        "\n",
        "print(a)\n",
        "print(b)\n",
        "if n % 2 == 0:\n",
        "  print (\" the n is divisble by 2\")\n",
        "\n",
        "if n % 3 == 0:\n",
        "  print(\"the n is divisble by 3\")\n",
        "\n",
        "else:\n",
        "  print(\"the n is not divisble by both 2 and 3\")\n"
      ],
      "metadata": {
        "colab": {
          "base_uri": "https://localhost:8080/"
        },
        "id": "G2y8pwAi9I9F",
        "outputId": "2312c76b-d787-47c9-b4cb-5329661fb816"
      },
      "execution_count": 8,
      "outputs": [
        {
          "output_type": "stream",
          "name": "stdout",
          "text": [
            "3.5\n",
            "2.3333333333333335\n",
            "the n is not divisble by both 2 and 3\n"
          ]
        }
      ]
    },
    {
      "cell_type": "code",
      "source": [
        "print(\"print odd number between 20 to 80\")\n",
        "for i in range(21, 80, 2):\n",
        "  print(i)\n"
      ],
      "metadata": {
        "colab": {
          "base_uri": "https://localhost:8080/"
        },
        "id": "vTPzpwSK-ycr",
        "outputId": "18c625cd-1537-442b-d722-2870ae4a9d18"
      },
      "execution_count": 12,
      "outputs": [
        {
          "output_type": "stream",
          "name": "stdout",
          "text": [
            "print odd number between 20 to 80\n",
            "21\n",
            "23\n",
            "25\n",
            "27\n",
            "29\n",
            "31\n",
            "33\n",
            "35\n",
            "37\n",
            "39\n",
            "41\n",
            "43\n",
            "45\n",
            "47\n",
            "49\n",
            "51\n",
            "53\n",
            "55\n",
            "57\n",
            "59\n",
            "61\n",
            "63\n",
            "65\n",
            "67\n",
            "69\n",
            "71\n",
            "73\n",
            "75\n",
            "77\n",
            "79\n"
          ]
        }
      ]
    },
    {
      "cell_type": "code",
      "source": [
        "list1 = [1, 2, 3, 4, 5,  7, 8, 9, 10, 11, 12 , 13, 14, 15, 16, 17, 18, 19, 20]\n",
        "\n",
        "for i in list1:\n",
        "  print(i)\n"
      ],
      "metadata": {
        "colab": {
          "base_uri": "https://localhost:8080/"
        },
        "id": "FZ69B_FpBWjm",
        "outputId": "33544557-c3f6-4ae7-8944-3fad3349bd76"
      },
      "execution_count": 14,
      "outputs": [
        {
          "output_type": "stream",
          "name": "stdout",
          "text": [
            "1\n",
            "2\n",
            "3\n",
            "4\n",
            "5\n",
            "7\n",
            "8\n",
            "9\n",
            "10\n",
            "11\n",
            "12\n",
            "13\n",
            "14\n",
            "15\n",
            "16\n",
            "17\n",
            "18\n",
            "19\n",
            "20\n"
          ]
        }
      ]
    },
    {
      "cell_type": "code",
      "source": [
        "list1 = [1, 2, 3, 4, 5,  7, 8, 9, 10, 11, 12 , 13, 14, 15, 16, 17, 18, 19, 20]\n",
        "\n",
        "for i in range(len(list1) -1, -1, -1):\n",
        "  print(i)"
      ],
      "metadata": {
        "colab": {
          "base_uri": "https://localhost:8080/"
        },
        "id": "e8Bb3voCCZQ5",
        "outputId": "4131a166-f724-459a-d35e-bcf6d553c8bf"
      },
      "execution_count": 22,
      "outputs": [
        {
          "output_type": "stream",
          "name": "stdout",
          "text": [
            "18\n",
            "17\n",
            "16\n",
            "15\n",
            "14\n",
            "13\n",
            "12\n",
            "11\n",
            "10\n",
            "9\n",
            "8\n",
            "7\n",
            "6\n",
            "5\n",
            "4\n",
            "3\n",
            "2\n",
            "1\n",
            "0\n"
          ]
        }
      ]
    },
    {
      "cell_type": "code",
      "source": [
        "for i in range(21, 40, 2):\n",
        "    cube = i ** 3\n",
        "    print(f\"The cube of {i} is {cube}\")"
      ],
      "metadata": {
        "colab": {
          "base_uri": "https://localhost:8080/"
        },
        "id": "VvVASUKmETAm",
        "outputId": "f9f07978-eaaf-4551-94c6-001034f7d010"
      },
      "execution_count": 34,
      "outputs": [
        {
          "output_type": "stream",
          "name": "stdout",
          "text": [
            "The cube of 21 is 9261\n",
            "The cube of 23 is 12167\n",
            "The cube of 25 is 15625\n",
            "The cube of 27 is 19683\n",
            "The cube of 29 is 24389\n",
            "The cube of 31 is 29791\n",
            "The cube of 33 is 35937\n",
            "The cube of 35 is 42875\n",
            "The cube of 37 is 50653\n",
            "The cube of 39 is 59319\n"
          ]
        }
      ]
    },
    {
      "cell_type": "code",
      "source": [
        "name = ['sakshi', 'savi', 'varsha', 'sona', 'shravani']\n",
        "age = [19, 20, 19, 20, 20]\n",
        "\n",
        "for i,j  in zip(name, age):\n",
        "    print(f\"the name is {i} and age is {j}\")\n",
        "\n"
      ],
      "metadata": {
        "colab": {
          "base_uri": "https://localhost:8080/"
        },
        "id": "msbdIVFUGL65",
        "outputId": "422b8ef7-1905-4b36-8563-7b4a3824d47d"
      },
      "execution_count": 35,
      "outputs": [
        {
          "output_type": "stream",
          "name": "stdout",
          "text": [
            "the name is sakshi and age is 19\n",
            "the name is savi and age is 20\n",
            "the name is varsha and age is 19\n",
            "the name is sona and age is 20\n",
            "the name is shravani and age is 20\n"
          ]
        }
      ]
    },
    {
      "cell_type": "code",
      "source": [
        "list1 = ['a', 'b', 'c']\n",
        "\n",
        "for i in list1:\n",
        "  temp = list1[0]\n",
        "  list1[0] = list1[2]\n",
        "  list1[2]= temp\n",
        "\n",
        "print(list1)\n",
        "\n",
        "\n",
        "\n"
      ],
      "metadata": {
        "colab": {
          "base_uri": "https://localhost:8080/"
        },
        "id": "75qCL-xIK65r",
        "outputId": "db990016-cb9d-42a5-a539-9b85d2200a7a"
      },
      "execution_count": 55,
      "outputs": [
        {
          "output_type": "stream",
          "name": "stdout",
          "text": [
            "['c', 'b', 'a']\n"
          ]
        }
      ]
    },
    {
      "cell_type": "code",
      "source": [
        "string = \"hello sit\"\n",
        "count = 0\n",
        "for char in string:\n",
        "  count= count+ 1\n",
        "print(f\" the count is{count}\")"
      ],
      "metadata": {
        "colab": {
          "base_uri": "https://localhost:8080/"
        },
        "id": "WChgoL6HMu38",
        "outputId": "c92d747f-0dab-4dbb-aa11-b4a7e52d39c0"
      },
      "execution_count": 57,
      "outputs": [
        {
          "output_type": "stream",
          "name": "stdout",
          "text": [
            " the count is9\n"
          ]
        }
      ]
    },
    {
      "cell_type": "code",
      "source": [
        "x = 0\n",
        "y=10\n",
        "while x <= y:\n",
        "  if x % 2 == 0:\n",
        "    print(f\"{x} is even\")\n",
        "\n",
        "  else:\n",
        "    print(f\"{x} is odd\")\n",
        "  x += 1"
      ],
      "metadata": {
        "colab": {
          "base_uri": "https://localhost:8080/"
        },
        "id": "kjo9YYcKTD0A",
        "outputId": "45d296d5-2a65-4287-d309-a1bd3a425e21"
      },
      "execution_count": 58,
      "outputs": [
        {
          "output_type": "stream",
          "name": "stdout",
          "text": [
            "0 is even\n",
            "1 is odd\n",
            "2 is even\n",
            "3 is odd\n",
            "4 is even\n",
            "5 is odd\n",
            "6 is even\n",
            "7 is odd\n",
            "8 is even\n",
            "9 is odd\n",
            "10 is even\n"
          ]
        }
      ]
    },
    {
      "cell_type": "code",
      "source": [
        "i = 1\n",
        "while i <= 5:\n",
        "    print(\"*\" * i)\n",
        "    i += 1"
      ],
      "metadata": {
        "colab": {
          "base_uri": "https://localhost:8080/"
        },
        "id": "WJP0Bor1TXt4",
        "outputId": "d8985d4a-4591-47bc-fd22-402018ff9a5a"
      },
      "execution_count": 62,
      "outputs": [
        {
          "output_type": "stream",
          "name": "stdout",
          "text": [
            "*\n",
            "**\n",
            "***\n",
            "****\n",
            "*****\n"
          ]
        }
      ]
    },
    {
      "cell_type": "code",
      "source": [
        "numbers = []\n",
        "i = 1\n",
        "while i <= 20:\n",
        "    numbers.append(i)\n",
        "    i += 1\n",
        "\n",
        "print(numbers)"
      ],
      "metadata": {
        "colab": {
          "base_uri": "https://localhost:8080/"
        },
        "id": "wk1PAvs3Ut2t",
        "outputId": "adbe35f7-3b81-41a2-d660-4438a5bd24ca"
      },
      "execution_count": 63,
      "outputs": [
        {
          "output_type": "stream",
          "name": "stdout",
          "text": [
            "[1, 2, 3, 4, 5, 6, 7, 8, 9, 10, 11, 12, 13, 14, 15, 16, 17, 18, 19, 20]\n"
          ]
        }
      ]
    },
    {
      "cell_type": "code",
      "source": [
        "\n",
        "numbers = []\n",
        "i = 20\n",
        "while i >= 1:\n",
        "    numbers.append(i)\n",
        "    i -= 1\n",
        "\n",
        "print(numbers)"
      ],
      "metadata": {
        "colab": {
          "base_uri": "https://localhost:8080/"
        },
        "id": "z366QgftU-11",
        "outputId": "91336804-823b-4691-c4a1-98fba352207c"
      },
      "execution_count": 64,
      "outputs": [
        {
          "output_type": "stream",
          "name": "stdout",
          "text": [
            "[20, 19, 18, 17, 16, 15, 14, 13, 12, 11, 10, 9, 8, 7, 6, 5, 4, 3, 2, 1]\n"
          ]
        }
      ]
    },
    {
      "cell_type": "code",
      "source": [
        "i = 1\n",
        "while i <= 10:\n",
        "    print(i)\n",
        "    if i == 5:\n",
        "        break\n",
        "    i += 1"
      ],
      "metadata": {
        "colab": {
          "base_uri": "https://localhost:8080/"
        },
        "id": "1G2FPh2HVQoy",
        "outputId": "29db62e3-0f83-48be-bf44-df77d2c7ff65"
      },
      "execution_count": 65,
      "outputs": [
        {
          "output_type": "stream",
          "name": "stdout",
          "text": [
            "1\n",
            "2\n",
            "3\n",
            "4\n",
            "5\n"
          ]
        }
      ]
    }
  ]
}